{
  "nbformat": 4,
  "nbformat_minor": 0,
  "metadata": {
    "colab": {
      "provenance": [],
      "authorship_tag": "ABX9TyNjl3uDM/CfXm2lMb2d9pY3",
      "include_colab_link": true
    },
    "kernelspec": {
      "name": "python3",
      "display_name": "Python 3"
    },
    "language_info": {
      "name": "python"
    }
  },
  "cells": [
    {
      "cell_type": "markdown",
      "metadata": {
        "id": "view-in-github",
        "colab_type": "text"
      },
      "source": [
        "<a href=\"https://colab.research.google.com/github/josphat-19/ml/blob/main/lin_regress.ipynb\" target=\"_parent\"><img src=\"https://colab.research.google.com/assets/colab-badge.svg\" alt=\"Open In Colab\"/></a>"
      ]
    },
    {
      "cell_type": "markdown",
      "source": [
        "# **Linear Regression Using One Explanatory Variable**"
      ],
      "metadata": {
        "id": "W_VnKD8UqeDF"
      }
    },
    {
      "cell_type": "code",
      "execution_count": 4,
      "metadata": {
        "colab": {
          "base_uri": "https://localhost:8080/",
          "height": 455
        },
        "collapsed": true,
        "id": "R8piIaZBpsDK",
        "outputId": "610e60d3-6ca0-45cf-abbb-d32564de6166"
      },
      "outputs": [
        {
          "output_type": "display_data",
          "data": {
            "text/plain": [
              "<Figure size 640x480 with 1 Axes>"
            ],
            "image/png": "[encoded data removed]"
          },
          "metadata": {}
        }
      ],
      "source": [
        "import pandas as pd\n",
        "import matplotlib.pyplot as plt\n",
        "from scipy import stats\n",
        "\n",
        "df = pd.read_csv('data.csv', header = 0)\n",
        "\n",
        "x = df['Average_Pulse']\n",
        "y = df['Calorie_Burnage']\n",
        "\n",
        "slope, intercept, r, p, std_err = stats.linregress(x, y)\n",
        "\n",
        "def myfunc(x):\n",
        "        return slope * x + intercept\n",
        "\n",
        "mymodel = list(map(myfunc, x))\n",
        "\n",
        "plt.scatter(x, y)\n",
        "plt.plot(x, slope * x + intercept)\n",
        "plt.ylim(ymin = 0, ymax = 2000)\n",
        "plt.xlim(xmin = 0, xmax = 200)\n",
        "plt.ylabel('Calorie_Burnage')\n",
        "plt.xlabel('Average_Pulse')\n",
        "plt.show()"
      ]
    },
    {
      "cell_type": "code",
      "source": [
        "df.head()"
      ],
      "metadata": {
        "colab": {
          "base_uri": "https://localhost:8080/",
          "height": 206
        },
        "id": "7UWXJcRC2UZE",
        "outputId": "4d76bab0-c5b0-4868-8843-eeab318d736a"
      },
      "execution_count": 13,
      "outputs": [
        {
          "output_type": "execute_result",
          "data": {
            "text/plain": [
              "   Duration  Average_Pulse  Max_Pulse  Calorie_Burnage  Hours_Work  \\\n",
              "0        60            110        130              409         0.0   \n",
              "1        60            117        145              479         0.0   \n",
              "2        60            103        135              340         8.0   \n",
              "3        45            109        175              282         8.0   \n",
              "4        45            117        148              406         0.0   \n",
              "\n",
              "   Hours_Sleep  \n",
              "0          8.0  \n",
              "1          8.0  \n",
              "2          7.5  \n",
              "3          8.0  \n",
              "4          6.5  "
            ],
            "text/html": [
              "\n",
              "  <div id=\"df-74eeb5ff-2379-47fa-9630-c55b98c32e9d\" class=\"colab-df-container\">\n",
              "    <div>\n",
              "<style scoped>\n",
              "    .dataframe tbody tr th:only-of-type {\n",
              "        vertical-align: middle;\n",
              "    }\n",
              "\n",
              "    .dataframe tbody tr th {\n",
              "        vertical-align: top;\n",
              "    }\n",
              "\n",
              "    .dataframe thead th {\n",
              "        text-align: right;\n",
              "    }\n",
              "</style>\n",
              "<table border=\"1\" class=\"dataframe\">\n",
              "  <thead>\n",
              "    <tr style=\"text-align: right;\">\n",
              "      <th></th>\n",
              "      <th>Duration</th>\n",
              "      <th>Average_Pulse</th>\n",
              "      <th>Max_Pulse</th>\n",
              "      <th>Calorie_Burnage</th>\n",
              "      <th>Hours_Work</th>\n",
              "      <th>Hours_Sleep</th>\n",
              "    </tr>\n",
              "  </thead>\n",
              "  <tbody>\n",
              "    <tr>\n",
              "      <th>0</th>\n",
              "      <td>60</td>\n",
              "      <td>110</td>\n",
              "      <td>130</td>\n",
              "      <td>409</td>\n",
              "      <td>0.0</td>\n",
              "      <td>8.0</td>\n",
              "    </tr>\n",
              "    <tr>\n",
              "      <th>1</th>\n",
              "      <td>60</td>\n",
              "      <td>117</td>\n",
              "      <td>145</td>\n",
              "      <td>479</td>\n",
              "      <td>0.0</td>\n",
              "      <td>8.0</td>\n",
              "    </tr>\n",
              "    <tr>\n",
              "      <th>2</th>\n",
              "      <td>60</td>\n",
              "      <td>103</td>\n",
              "      <td>135</td>\n",
              "      <td>340</td>\n",
              "      <td>8.0</td>\n",
              "      <td>7.5</td>\n",
              "    </tr>\n",
              "    <tr>\n",
              "      <th>3</th>\n",
              "      <td>45</td>\n",
              "      <td>109</td>\n",
              "      <td>175</td>\n",
              "      <td>282</td>\n",
              "      <td>8.0</td>\n",
              "      <td>8.0</td>\n",
              "    </tr>\n",
              "    <tr>\n",
              "      <th>4</th>\n",
              "      <td>45</td>\n",
              "      <td>117</td>\n",
              "      <td>148</td>\n",
              "      <td>406</td>\n",
              "      <td>0.0</td>\n",
              "      <td>6.5</td>\n",
              "    </tr>\n",
              "  </tbody>\n",
              "</table>\n",
              "</div>\n",
              "    <div class=\"colab-df-buttons\">\n",
              "\n",
              "  <div class=\"colab-df-container\">\n",
              "    <button class=\"colab-df-convert\" onclick=\"convertToInteractive('df-74eeb5ff-2379-47fa-9630-c55b98c32e9d')\"\n",
              "            title=\"Convert this dataframe to an interactive table.\"\n",
              "            style=\"display:none;\">\n",
              "\n",
              "  <svg xmlns=\"http://www.w3.org/2000/svg\" height=\"24px\" viewBox=\"0 -960 960 960\">\n",
              "    <path d=\"M120-120v-720h720v720H120Zm60-500h600v-160H180v160Zm220 220h160v-160H400v160Zm0 220h160v-160H400v160ZM180-400h160v-160H180v160Zm440 0h160v-160H620v160ZM180-180h160v-160H180v160Zm440 0h160v-160H620v160Z\"/>\n",
              "  </svg>\n",
              "    </button>\n",
              "\n",
              "  <style>\n",
              "    .colab-df-container {\n",
              "      display:flex;\n",
              "      gap: 12px;\n",
              "    }\n",
              "\n",
              "    .colab-df-convert {\n",
              "      background-color: #E8F0FE;\n",
              "      border: none;\n",
              "      border-radius: 50%;\n",
              "      cursor: pointer;\n",
              "      display: none;\n",
              "      fill: #1967D2;\n",
              "      height: 32px;\n",
              "      padding: 0 0 0 0;\n",
              "      width: 32px;\n",
              "    }\n",
              "\n",
              "    .colab-df-convert:hover {\n",
              "      background-color: #E2EBFA;\n",
              "      box-shadow: 0px 1px 2px rgba(60, 64, 67, 0.3), 0px 1px 3px 1px rgba(60, 64, 67, 0.15);\n",
              "      fill: #174EA6;\n",
              "    }\n",
              "\n",
              "    .colab-df-buttons div {\n",
              "      margin-bottom: 4px;\n",
              "    }\n",
              "\n",
              "    [theme=dark] .colab-df-convert {\n",
              "      background-color: #3B4455;\n",
              "      fill: #D2E3FC;\n",
              "    }\n",
              "\n",
              "    [theme=dark] .colab-df-convert:hover {\n",
              "      background-color: #434B5C;\n",
              "      box-shadow: 0px 1px 3px 1px rgba(0, 0, 0, 0.15);\n",
              "      filter: drop-shadow(0px 1px 2px rgba(0, 0, 0, 0.3));\n",
              "      fill: #FFFFFF;\n",
              "    }\n",
              "  </style>\n",
              "\n",
              "    <script>\n",
              "      const buttonEl =\n",
              "        document.querySelector('#df-74eeb5ff-2379-47fa-9630-c55b98c32e9d button.colab-df-convert');\n",
              "      buttonEl.style.display =\n",
              "        google.colab.kernel.accessAllowed ? 'block' : 'none';\n",
              "\n",
              "      async function convertToInteractive(key) {\n",
              "        const element = document.querySelector('#df-74eeb5ff-2379-47fa-9630-c55b98c32e9d');\n",
              "        const dataTable =\n",
              "          await google.colab.kernel.invokeFunction('convertToInteractive',\n",
              "                                                    [key], {});\n",
              "        if (!dataTable) return;\n",
              "\n",
              "        const docLinkHtml = 'Like what you see? Visit the ' +\n",
              "          '<a target=\"_blank\" href=https://colab.research.google.com/notebooks/data_table.ipynb>data table notebook</a>'\n",
              "          + ' to learn more about interactive tables.';\n",
              "        element.innerHTML = '';\n",
              "        dataTable['output_type'] = 'display_data';\n",
              "        await google.colab.output.renderOutput(dataTable, element);\n",
              "        const docLink = document.createElement('div');\n",
              "        docLink.innerHTML = docLinkHtml;\n",
              "        element.appendChild(docLink);\n",
              "      }\n",
              "    </script>\n",
              "  </div>\n",
              "\n",
              "\n",
              "    <div id=\"df-f9beea3f-ed0f-41c8-b7ee-36f298bee558\">\n",
              "      <button class=\"colab-df-quickchart\" onclick=\"quickchart('df-f9beea3f-ed0f-41c8-b7ee-36f298bee558')\"\n",
              "                title=\"Suggest charts\"\n",
              "                style=\"display:none;\">\n",
              "\n",
              "<svg xmlns=\"http://www.w3.org/2000/svg\" height=\"24px\"viewBox=\"0 0 24 24\"\n",
              "     width=\"24px\">\n",
              "    <g>\n",
              "        <path d=\"M19 3H5c-1.1 0-2 .9-2 2v14c0 1.1.9 2 2 2h14c1.1 0 2-.9 2-2V5c0-1.1-.9-2-2-2zM9 17H7v-7h2v7zm4 0h-2V7h2v10zm4 0h-2v-4h2v4z\"/>\n",
              "    </g>\n",
              "</svg>\n",
              "      </button>\n",
              "\n",
              "<style>\n",
              "  .colab-df-quickchart {\n",
              "      --bg-color: #E8F0FE;\n",
              "      --fill-color: #1967D2;\n",
              "      --hover-bg-color: #E2EBFA;\n",
              "      --hover-fill-color: #174EA6;\n",
              "      --disabled-fill-color: #AAA;\n",
              "      --disabled-bg-color: #DDD;\n",
              "  }\n",
              "\n",
              "  [theme=dark] .colab-df-quickchart {\n",
              "      --bg-color: #3B4455;\n",
              "      --fill-color: #D2E3FC;\n",
              "      --hover-bg-color: #434B5C;\n",
              "      --hover-fill-color: #FFFFFF;\n",
              "      --disabled-bg-color: #3B4455;\n",
              "      --disabled-fill-color: #666;\n",
              "  }\n",
              "\n",
              "  .colab-df-quickchart {\n",
              "    background-color: var(--bg-color);\n",
              "    border: none;\n",
              "    border-radius: 50%;\n",
              "    cursor: pointer;\n",
              "    display: none;\n",
              "    fill: var(--fill-color);\n",
              "    height: 32px;\n",
              "    padding: 0;\n",
              "    width: 32px;\n",
              "  }\n",
              "\n",
              "  .colab-df-quickchart:hover {\n",
              "    background-color: var(--hover-bg-color);\n",
              "    box-shadow: 0 1px 2px rgba(60, 64, 67, 0.3), 0 1px 3px 1px rgba(60, 64, 67, 0.15);\n",
              "    fill: var(--button-hover-fill-color);\n",
              "  }\n",
              "\n",
              "  .colab-df-quickchart-complete:disabled,\n",
              "  .colab-df-quickchart-complete:disabled:hover {\n",
              "    background-color: var(--disabled-bg-color);\n",
              "    fill: var(--disabled-fill-color);\n",
              "    box-shadow: none;\n",
              "  }\n",
              "\n",
              "  .colab-df-spinner {\n",
              "    border: 2px solid var(--fill-color);\n",
              "    border-color: transparent;\n",
              "    border-bottom-color: var(--fill-color);\n",
              "    animation:\n",
              "      spin 1s steps(1) infinite;\n",
              "  }\n",
              "\n",
              "  @keyframes spin {\n",
              "    0% {\n",
              "      border-color: transparent;\n",
              "      border-bottom-color: var(--fill-color);\n",
              "      border-left-color: var(--fill-color);\n",
              "    }\n",
              "    20% {\n",
              "      border-color: transparent;\n",
              "      border-left-color: var(--fill-color);\n",
              "      border-top-color: var(--fill-color);\n",
              "    }\n",
              "    30% {\n",
              "      border-color: transparent;\n",
              "      border-left-color: var(--fill-color);\n",
              "      border-top-color: var(--fill-color);\n",
              "      border-right-color: var(--fill-color);\n",
              "    }\n",
              "    40% {\n",
              "      border-color: transparent;\n",
              "      border-right-color: var(--fill-color);\n",
              "      border-top-color: var(--fill-color);\n",
              "    }\n",
              "    60% {\n",
              "      border-color: transparent;\n",
              "      border-right-color: var(--fill-color);\n",
              "    }\n",
              "    80% {\n",
              "      border-color: transparent;\n",
              "      border-right-color: var(--fill-color);\n",
              "      border-bottom-color: var(--fill-color);\n",
              "    }\n",
              "    90% {\n",
              "      border-color: transparent;\n",
              "      border-bottom-color: var(--fill-color);\n",
              "    }\n",
              "  }\n",
              "</style>\n",
              "\n",
              "      <script>\n",
              "        async function quickchart(key) {\n",
              "          const quickchartButtonEl =\n",
              "            document.querySelector('#' + key + ' button');\n",
              "          quickchartButtonEl.disabled = true;  // To prevent multiple clicks.\n",
              "          quickchartButtonEl.classList.add('colab-df-spinner');\n",
              "          try {\n",
              "            const charts = await google.colab.kernel.invokeFunction(\n",
              "                'suggestCharts', [key], {});\n",
              "          } catch (error) {\n",
              "            console.error('Error during call to suggestCharts:', error);\n",
              "          }\n",
              "          quickchartButtonEl.classList.remove('colab-df-spinner');\n",
              "          quickchartButtonEl.classList.add('colab-df-quickchart-complete');\n",
              "        }\n",
              "        (() => {\n",
              "          let quickchartButtonEl =\n",
              "            document.querySelector('#df-f9beea3f-ed0f-41c8-b7ee-36f298bee558 button');\n",
              "          quickchartButtonEl.style.display =\n",
              "            google.colab.kernel.accessAllowed ? 'block' : 'none';\n",
              "        })();\n",
              "      </script>\n",
              "    </div>\n",
              "\n",
              "    </div>\n",
              "  </div>\n"
            ],
            "application/vnd.google.colaboratory.intrinsic+json": {
              "type": "dataframe",
              "variable_name": "df",
              "summary": "{\n  \"name\": \"df\",\n  \"rows\": 163,\n  \"fields\": [\n    {\n      \"column\": \"Duration\",\n      \"properties\": {\n        \"dtype\": \"number\",\n        \"std\": 42,\n        \"min\": 15,\n        \"max\": 300,\n        \"num_unique_values\": 16,\n        \"samples\": [\n          60,\n          45,\n          210\n        ],\n        \"semantic_type\": \"\",\n        \"description\": \"\"\n      }\n    },\n    {\n      \"column\": \"Average_Pulse\",\n      \"properties\": {\n        \"dtype\": \"number\",\n        \"std\": 14,\n        \"min\": 80,\n        \"max\": 159,\n        \"num_unique_values\": 47,\n        \"samples\": [\n          159,\n          112,\n          153\n        ],\n        \"semantic_type\": \"\",\n        \"description\": \"\"\n      }\n    },\n    {\n      \"column\": \"Max_Pulse\",\n      \"properties\": {\n        \"dtype\": \"number\",\n        \"std\": 16,\n        \"min\": 100,\n        \"max\": 184,\n        \"num_unique_values\": 57,\n        \"samples\": [\n          130,\n          127,\n          146\n        ],\n        \"semantic_type\": \"\",\n        \"description\": \"\"\n      }\n    },\n    {\n      \"column\": \"Calorie_Burnage\",\n      \"properties\": {\n        \"dtype\": \"number\",\n        \"std\": 274,\n        \"min\": 50,\n        \"max\": 1860,\n        \"num_unique_values\": 123,\n        \"samples\": [\n          243,\n          321,\n          1034\n        ],\n        \"semantic_type\": \"\",\n        \"description\": \"\"\n      }\n    },\n    {\n      \"column\": \"Hours_Work\",\n      \"properties\": {\n        \"dtype\": \"number\",\n        \"std\": 3.923772361877028,\n        \"min\": 0.0,\n        \"max\": 11.0,\n        \"num_unique_values\": 14,\n        \"samples\": [\n          11.0,\n          4.0,\n          0.0\n        ],\n        \"semantic_type\": \"\",\n        \"description\": \"\"\n      }\n    },\n    {\n      \"column\": \"Hours_Sleep\",\n      \"properties\": {\n        \"dtype\": \"number\",\n        \"std\": 0.6639344147327919,\n        \"min\": 5.0,\n        \"max\": 12.0,\n        \"num_unique_values\": 9,\n        \"samples\": [\n          8.5,\n          7.5,\n          5.0\n        ],\n        \"semantic_type\": \"\",\n        \"description\": \"\"\n      }\n    }\n  ]\n}"
            }
          },
          "metadata": {},
          "execution_count": 13
        }
      ]
    },
    {
      "cell_type": "markdown",
      "source": [
        "# **Create a Linear Regression Table**"
      ],
      "metadata": {
        "id": "MiukofTRq5cR"
      }
    },
    {
      "cell_type": "code",
      "source": [
        "import statsmodels.formula.api as smf\n",
        "\n",
        "model = smf.ols('Calorie_Burnage ~ Average_Pulse', data = df)\n",
        "\n",
        "results = model.fit()\n",
        "print(results.summary())"
      ],
      "metadata": {
        "id": "NQMEjFe7q8nV",
        "colab": {
          "base_uri": "https://localhost:8080/"
        },
        "outputId": "3d4d48d6-d533-412c-9a8f-35bb08e66ddc"
      },
      "execution_count": 5,
      "outputs": [
        {
          "output_type": "stream",
          "name": "stdout",
          "text": [
            "                            OLS Regression Results                            \n",
            "==============================================================================\n",
            "Dep. Variable:        Calorie_Burnage   R-squared:                       0.000\n",
            "Model:                            OLS   Adj. R-squared:                 -0.006\n",
            "Method:                 Least Squares   F-statistic:                   0.04975\n",
            "Date:                Wed, 25 Jun 2025   Prob (F-statistic):              0.824\n",
            "Time:                        15:40:16   Log-Likelihood:                -1145.8\n",
            "No. Observations:                 163   AIC:                             2296.\n",
            "Df Residuals:                     161   BIC:                             2302.\n",
            "Df Model:                           1                                         \n",
            "Covariance Type:            nonrobust                                         \n",
            "=================================================================================\n",
            "                    coef    std err          t      P>|t|      [0.025      0.975]\n",
            "---------------------------------------------------------------------------------\n",
            "Intercept       346.8662    160.615      2.160      0.032      29.682     664.050\n",
            "Average_Pulse     0.3296      1.478      0.223      0.824      -2.588       3.247\n",
            "==============================================================================\n",
            "Omnibus:                      124.542   Durbin-Watson:                   1.620\n",
            "Prob(Omnibus):                  0.000   Jarque-Bera (JB):              938.541\n",
            "Skew:                           2.927   Prob(JB):                    1.58e-204\n",
            "Kurtosis:                      13.195   Cond. No.                         811.\n",
            "==============================================================================\n",
            "\n",
            "Notes:\n",
            "[1] Standard Errors assume that the covariance matrix of the errors is correctly specified.\n"
          ]
        }
      ]
    },
    {
      "cell_type": "markdown",
      "source": [
        "Coefficient of 0.3296, which means that Average_Pulse has a very small effect on Calorie_Burnage.\n",
        "\n",
        "High P-value (0.824), which means that we cannot conclude a relationship between Average_Pulse and Calorie_Burnage.\n",
        "\n",
        "R-Squared value of 0, which means that the linear regression function line does not fit the data well.\n",
        "\n",
        "\n"
      ],
      "metadata": {
        "id": "VWzN3G5dynLz"
      }
    },
    {
      "cell_type": "markdown",
      "source": [
        "# **Using Duration to predict calorie_Burnage**"
      ],
      "metadata": {
        "id": "simQ81MbtJCi"
      }
    },
    {
      "cell_type": "code",
      "source": [
        "x = df[\"Duration\"]\n",
        "y = df[\"Calorie_Burnage\"]\n",
        "\n",
        "slope, intercept, r, p, std_err = stats.linregress(x, y)\n",
        "\n",
        "def myfunc(x):\n",
        " return slope * x + intercept\n",
        "\n",
        "mymodel = list(map(myfunc, x))\n",
        "\n",
        "print(mymodel)\n",
        "\n",
        "plt.scatter(x, y)\n",
        "plt.plot(x, mymodel)\n",
        "plt.ylim(ymin=0, ymax=2000)\n",
        "plt.xlim(xmin=0, xmax=200)\n",
        "plt.xlabel(\"Duration\")\n",
        "plt.ylabel (\"Calorie_Burnage\")\n",
        "\n",
        "plt.show()"
      ],
      "metadata": {
        "id": "bxFnbNLntOOt",
        "colab": {
          "base_uri": "https://localhost:8080/",
          "height": 493
        },
        "collapsed": true,
        "outputId": "93abd3fa-f3aa-484c-f726-2a77df87ed34"
      },
      "execution_count": 6,
      "outputs": [
        {
          "output_type": "stream",
          "name": "stdout",
          "text": [
            "[np.float64(358.21715450527273), np.float64(358.21715450527273), np.float64(358.21715450527273), np.float64(273.2544822252611), np.float64(273.2544822252611), np.float64(358.21715450527273), np.float64(358.21715450527273), np.float64(273.2544822252611), np.float64(188.29180994524933), np.float64(358.21715450527273), np.float64(358.21715450527273), np.float64(358.21715450527273), np.float64(358.21715450527273), np.float64(358.21715450527273), np.float64(358.21715450527273), np.float64(358.21715450527273), np.float64(358.21715450527273), np.float64(273.2544822252611), np.float64(358.21715450527273), np.float64(273.2544822252611), np.float64(358.21715450527273), np.float64(273.2544822252611), np.float64(358.21715450527273), np.float64(273.2544822252611), np.float64(358.21715450527273), np.float64(358.21715450527273), np.float64(358.21715450527273), np.float64(358.21715450527273), np.float64(358.21715450527273), np.float64(358.21715450527273), np.float64(358.21715450527273), np.float64(358.21715450527273), np.float64(358.21715450527273), np.float64(358.21715450527273), np.float64(358.21715450527273), np.float64(358.21715450527273), np.float64(358.21715450527273), np.float64(273.2544822252611), np.float64(358.21715450527273), np.float64(358.21715450527273), np.float64(358.21715450527273), np.float64(358.21715450527273), np.float64(358.21715450527273), np.float64(358.21715450527273), np.float64(273.2544822252611), np.float64(273.2544822252611), np.float64(358.21715450527273), np.float64(358.21715450527273), np.float64(471.50071754528835), np.float64(358.21715450527273), np.float64(358.21715450527273), np.float64(188.29180994524933), np.float64(358.21715450527273), np.float64(358.21715450527273), np.float64(273.2544822252611), np.float64(131.65002842524154), np.float64(273.2544822252611), np.float64(1207.8438773053897), np.float64(924.6349697053508), np.float64(924.6349697053508), np.float64(273.2544822252611), np.float64(131.65002842524154), np.float64(1037.9185327453665), np.float64(867.9931881853431), np.float64(867.9931881853431), np.float64(131.65002842524154), np.float64(1717.6199109854601), np.float64(867.9931881853431), np.float64(528.1424990652962), np.float64(867.9931881853431), np.float64(273.2544822252611), np.float64(528.1424990652962), np.float64(273.2544822252611), np.float64(273.2544822252611), np.float64(698.0678436253195), np.float64(1547.6945664254365), np.float64(188.29180994524933), np.float64(273.2544822252611), np.float64(188.29180994524933), np.float64(698.0678436253195), np.float64(273.2544822252611), np.float64(188.29180994524933), np.float64(273.2544822252611), np.float64(698.0678436253195), np.float64(273.2544822252611), np.float64(131.65002842524154), np.float64(1037.9185327453665), np.float64(273.2544822252611), np.float64(188.29180994524933), np.float64(103.32913766523762), np.float64(131.65002842524154), np.float64(131.65002842524154), np.float64(188.29180994524933), np.float64(159.97091918524544), np.float64(188.29180994524933), np.float64(528.1424990652962), np.float64(131.65002842524154), np.float64(528.1424990652962), np.float64(528.1424990652962), np.float64(528.1424990652962), np.float64(188.29180994524933), np.float64(188.29180994524933), np.float64(1037.9185327453665), np.float64(188.29180994524933), np.float64(528.1424990652962), np.float64(1207.8438773053897), np.float64(358.21715450527273), np.float64(273.2544822252611), np.float64(103.32913766523762), np.float64(358.21715450527273), np.float64(358.21715450527273), np.float64(358.21715450527273), np.float64(358.21715450527273), np.float64(358.21715450527273), np.float64(358.21715450527273), np.float64(188.29180994524933), np.float64(273.2544822252611), np.float64(358.21715450527273), np.float64(358.21715450527273), np.float64(358.21715450527273), np.float64(358.21715450527273), np.float64(358.21715450527273), np.float64(358.21715450527273), np.float64(528.1424990652962), np.float64(358.21715450527273), np.float64(358.21715450527273), np.float64(358.21715450527273), np.float64(358.21715450527273), np.float64(358.21715450527273), np.float64(358.21715450527273), np.float64(131.65002842524154), np.float64(273.2544822252611), np.float64(273.2544822252611), np.float64(273.2544822252611), np.float64(131.65002842524154), np.float64(358.21715450527273), np.float64(358.21715450527273), np.float64(273.2544822252611), np.float64(273.2544822252611), np.float64(358.21715450527273), np.float64(273.2544822252611), np.float64(358.21715450527273), np.float64(358.21715450527273), np.float64(188.29180994524933), np.float64(358.21715450527273), np.float64(358.21715450527273), np.float64(358.21715450527273), np.float64(358.21715450527273), np.float64(188.29180994524933), np.float64(358.21715450527273), np.float64(358.21715450527273), np.float64(358.21715450527273), np.float64(358.21715450527273), np.float64(188.29180994524933), np.float64(188.29180994524933), np.float64(273.2544822252611), np.float64(273.2544822252611), np.float64(273.2544822252611), np.float64(358.21715450527273), np.float64(358.21715450527273), np.float64(358.21715450527273), np.float64(443.1798267852845), np.float64(443.1798267852845)]\n"
          ]
        },
        {
          "output_type": "display_data",
          "data": {
            "text/plain": [
              "<Figure size 640x480 with 1 Axes>"
            ],
            "image/png": "[encoded data removed]"
          },
          "metadata": {}
        }
      ]
    },
    {
      "cell_type": "code",
      "source": [
        "model = smf.ols('Calorie_Burnage ~ Duration', data = df)\n",
        "\n",
        "results = model.fit()\n",
        "print(results.summary())"
      ],
      "metadata": {
        "colab": {
          "base_uri": "https://localhost:8080/"
        },
        "id": "AZ6CA2ZUx-Uc",
        "outputId": "d5ec87ce-3bf1-4892-dde5-64737edd6287"
      },
      "execution_count": 9,
      "outputs": [
        {
          "output_type": "stream",
          "name": "stdout",
          "text": [
            "                            OLS Regression Results                            \n",
            "==============================================================================\n",
            "Dep. Variable:        Calorie_Burnage   R-squared:                       0.789\n",
            "Model:                            OLS   Adj. R-squared:                  0.787\n",
            "Method:                 Least Squares   F-statistic:                     600.7\n",
            "Date:                Wed, 25 Jun 2025   Prob (F-statistic):           3.26e-56\n",
            "Time:                        15:57:41   Log-Likelihood:                -1019.2\n",
            "No. Observations:                 163   AIC:                             2042.\n",
            "Df Residuals:                     161   BIC:                             2049.\n",
            "Df Model:                           1                                         \n",
            "Covariance Type:            nonrobust                                         \n",
            "==============================================================================\n",
            "                 coef    std err          t      P>|t|      [0.025      0.975]\n",
            "------------------------------------------------------------------------------\n",
            "Intercept     18.3665     17.851      1.029      0.305     -16.887      53.620\n",
            "Duration       5.6642      0.231     24.510      0.000       5.208       6.121\n",
            "==============================================================================\n",
            "Omnibus:                      145.828   Durbin-Watson:                   2.252\n",
            "Prob(Omnibus):                  0.000   Jarque-Bera (JB):             3337.012\n",
            "Skew:                           3.050   Prob(JB):                         0.00\n",
            "Kurtosis:                      24.310   Cond. No.                         139.\n",
            "==============================================================================\n",
            "\n",
            "Notes:\n",
            "[1] Standard Errors assume that the covariance matrix of the errors is correctly specified.\n"
          ]
        }
      ]
    },
    {
      "cell_type": "markdown",
      "source": [
        "# **Duration + Average_Pulse to Predict Calorie_Burnage**"
      ],
      "metadata": {
        "id": "UcD1ENVSzVcd"
      }
    },
    {
      "cell_type": "code",
      "source": [
        "model = smf.ols('Calorie_Burnage ~ Average_Pulse + Duration', data = df)\n",
        "\n",
        "results = model.fit()\n",
        "print(results.summary())"
      ],
      "metadata": {
        "colab": {
          "base_uri": "https://localhost:8080/"
        },
        "id": "9V4N27ckzYdz",
        "outputId": "63af4602-56f9-4dda-b46d-d9f27a86c53e"
      },
      "execution_count": 11,
      "outputs": [
        {
          "output_type": "stream",
          "name": "stdout",
          "text": [
            "                            OLS Regression Results                            \n",
            "==============================================================================\n",
            "Dep. Variable:        Calorie_Burnage   R-squared:                       0.816\n",
            "Model:                            OLS   Adj. R-squared:                  0.814\n",
            "Method:                 Least Squares   F-statistic:                     355.8\n",
            "Date:                Wed, 25 Jun 2025   Prob (F-statistic):           1.27e-59\n",
            "Time:                        15:59:59   Log-Likelihood:                -1007.7\n",
            "No. Observations:                 163   AIC:                             2021.\n",
            "Df Residuals:                     160   BIC:                             2031.\n",
            "Df Model:                           2                                         \n",
            "Covariance Type:            nonrobust                                         \n",
            "=================================================================================\n",
            "                    coef    std err          t      P>|t|      [0.025      0.975]\n",
            "---------------------------------------------------------------------------------\n",
            "Intercept      -334.5194     73.616     -4.544      0.000    -479.904    -189.135\n",
            "Average_Pulse     3.1695      0.644      4.922      0.000       1.898       4.441\n",
            "Duration          5.8424      0.219     26.671      0.000       5.410       6.275\n",
            "==============================================================================\n",
            "Omnibus:                      160.167   Durbin-Watson:                   2.339\n",
            "Prob(Omnibus):                  0.000   Jarque-Bera (JB):             5096.292\n",
            "Skew:                           3.383   Prob(JB):                         0.00\n",
            "Kurtosis:                      29.544   Cond. No.                     1.02e+03\n",
            "==============================================================================\n",
            "\n",
            "Notes:\n",
            "[1] Standard Errors assume that the covariance matrix of the errors is correctly specified.\n",
            "[2] The condition number is large, 1.02e+03. This might indicate that there are\n",
            "strong multicollinearity or other numerical problems.\n"
          ]
        }
      ]
    },
    {
      "cell_type": "markdown",
      "source": [
        "Calorie_Burnage increases with 3.17 if Average_Pulse increases by one.\n",
        "Calorie_Burnage increases with 5.84 if Duration increases by one.\n",
        "\n",
        "P-value is 0.00 for Average_Pulse, Duration and the Intercept.\n",
        "The P-value is statistically significant for all of the variables, as it is less than 0.05.\n",
        "\n",
        "A high R-Squared value means that many data points are close to the linear regression function line.\n",
        "A low R-Squared value means that the linear regression function line does not fit the data well."
      ],
      "metadata": {
        "id": "lxwMbOFG0taw"
      }
    }
  ]
}